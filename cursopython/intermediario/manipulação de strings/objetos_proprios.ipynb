{
 "cells": [
  {
   "attachments": {},
   "cell_type": "markdown",
   "metadata": {},
   "source": [
    "##### Objetos Próprios"
   ]
  },
  {
   "cell_type": "code",
   "execution_count": 1,
   "metadata": {},
   "outputs": [],
   "source": [
    "class ContaCorrente:\n",
    "\n",
    "    def __init__(self, codigo):\n",
    "        self.codigo = codigo\n",
    "        self.saldo = 0\n",
    "\n",
    "    def deposita(self, valor):\n",
    "        self.saldo += valor\n",
    "\n",
    "    def __str__(self):\n",
    "        return f\">> Codigo {self.codigo} saldo {self.saldo} <<\""
   ]
  },
  {
   "cell_type": "code",
   "execution_count": 2,
   "metadata": {},
   "outputs": [
    {
     "name": "stdout",
     "output_type": "stream",
     "text": [
      ">> Codigo 15 saldo 0 <<\n"
     ]
    }
   ],
   "source": [
    "conta = ContaCorrente(15)\n",
    "print(conta)"
   ]
  },
  {
   "cell_type": "code",
   "execution_count": 3,
   "metadata": {},
   "outputs": [
    {
     "name": "stdout",
     "output_type": "stream",
     "text": [
      ">> Codigo 15 saldo 120 <<\n"
     ]
    }
   ],
   "source": [
    "conta.deposita(120)\n",
    "print(conta)"
   ]
  },
  {
   "cell_type": "code",
   "execution_count": 4,
   "metadata": {},
   "outputs": [
    {
     "name": "stdout",
     "output_type": "stream",
     "text": [
      ">> Codigo 13345 saldo 100 <<\n"
     ]
    }
   ],
   "source": [
    "conta_dani = ContaCorrente(13345)\n",
    "conta_dani.deposita(100)\n",
    "print(conta_dani)"
   ]
  },
  {
   "cell_type": "code",
   "execution_count": 5,
   "metadata": {},
   "outputs": [
    {
     "name": "stdout",
     "output_type": "stream",
     "text": [
      ">> Codigo 15 saldo 120 <<\n",
      ">> Codigo 13345 saldo 100 <<\n"
     ]
    }
   ],
   "source": [
    "contas = [conta, conta_dani]\n",
    "\n",
    "for conta in contas:\n",
    "    print(conta)"
   ]
  },
  {
   "cell_type": "code",
   "execution_count": 6,
   "metadata": {},
   "outputs": [
    {
     "name": "stdout",
     "output_type": "stream",
     "text": [
      ">> Codigo 756374 saldo 456 <<\n"
     ]
    }
   ],
   "source": [
    "conta_manu = ContaCorrente(756374)\n",
    "conta_manu.deposita(456)\n",
    "print(conta_manu)"
   ]
  },
  {
   "cell_type": "code",
   "execution_count": 7,
   "metadata": {},
   "outputs": [],
   "source": [
    "contas.append(conta_manu)"
   ]
  },
  {
   "cell_type": "code",
   "execution_count": 8,
   "metadata": {},
   "outputs": [
    {
     "data": {
      "text/plain": [
       "[<__main__.ContaCorrente at 0x1f37498ee30>,\n",
       " <__main__.ContaCorrente at 0x1f37498cf40>,\n",
       " <__main__.ContaCorrente at 0x1f37498e620>]"
      ]
     },
     "execution_count": 8,
     "metadata": {},
     "output_type": "execute_result"
    }
   ],
   "source": [
    "contas"
   ]
  },
  {
   "cell_type": "code",
   "execution_count": 9,
   "metadata": {},
   "outputs": [
    {
     "name": "stdout",
     "output_type": "stream",
     "text": [
      ">> Codigo 15 saldo 120 <<\n",
      ">> Codigo 13345 saldo 100 <<\n",
      ">> Codigo 756374 saldo 456 <<\n"
     ]
    }
   ],
   "source": [
    "for conta in contas:\n",
    "    print(conta)"
   ]
  },
  {
   "cell_type": "code",
   "execution_count": 17,
   "metadata": {},
   "outputs": [
    {
     "name": "stdout",
     "output_type": "stream",
     "text": [
      ">> Codigo 756374 saldo 956 << >> Codigo 13345 saldo 400 <<\n",
      ">> Codigo 756374 saldo 1156 << >> Codigo 13345 saldo 500 <<\n"
     ]
    }
   ],
   "source": [
    "def deposita_para_todos(contas):\n",
    "    for conta in contas:\n",
    "        conta.deposita(100)\n",
    "\n",
    "contas = [conta, conta_dani]\n",
    "print(contas[0], contas[1])\n",
    "deposita_para_todos(contas)\n",
    "print(contas[0], contas[1])"
   ]
  },
  {
   "cell_type": "code",
   "execution_count": 18,
   "metadata": {},
   "outputs": [
    {
     "name": "stdout",
     "output_type": "stream",
     "text": [
      "78 >> Codigo 756374 saldo 1156 << >> Codigo 13345 saldo 500 <<\n"
     ]
    }
   ],
   "source": [
    "contas.insert(0, 78)\n",
    "print(contas[0], contas[1], contas[2])"
   ]
  },
  {
   "cell_type": "code",
   "execution_count": 19,
   "metadata": {},
   "outputs": [
    {
     "ename": "AttributeError",
     "evalue": "'int' object has no attribute 'deposita'",
     "output_type": "error",
     "traceback": [
      "\u001b[1;31m---------------------------------------------------------------------------\u001b[0m",
      "\u001b[1;31mAttributeError\u001b[0m                            Traceback (most recent call last)",
      "\u001b[1;32mc:\\python\\cursopython\\intermediario\\manipulação de strings\\objetos_proprios.ipynb Cell 14\u001b[0m in \u001b[0;36m1\n\u001b[1;32m----> <a href='vscode-notebook-cell:/c%3A/python/cursopython/intermediario/manipula%C3%A7%C3%A3o%20de%20strings/objetos_proprios.ipynb#X30sZmlsZQ%3D%3D?line=0'>1</a>\u001b[0m deposita_para_todos(contas)\n\u001b[0;32m      <a href='vscode-notebook-cell:/c%3A/python/cursopython/intermediario/manipula%C3%A7%C3%A3o%20de%20strings/objetos_proprios.ipynb#X30sZmlsZQ%3D%3D?line=1'>2</a>\u001b[0m \u001b[39mprint\u001b[39m(contas[\u001b[39m0\u001b[39m], contas[\u001b[39m1\u001b[39m], contas[\u001b[39m2\u001b[39m])\n",
      "\u001b[1;32mc:\\python\\cursopython\\intermediario\\manipulação de strings\\objetos_proprios.ipynb Cell 14\u001b[0m in \u001b[0;36m3\n\u001b[0;32m      <a href='vscode-notebook-cell:/c%3A/python/cursopython/intermediario/manipula%C3%A7%C3%A3o%20de%20strings/objetos_proprios.ipynb#X30sZmlsZQ%3D%3D?line=0'>1</a>\u001b[0m \u001b[39mdef\u001b[39;00m \u001b[39mdeposita_para_todos\u001b[39m(contas):\n\u001b[0;32m      <a href='vscode-notebook-cell:/c%3A/python/cursopython/intermediario/manipula%C3%A7%C3%A3o%20de%20strings/objetos_proprios.ipynb#X30sZmlsZQ%3D%3D?line=1'>2</a>\u001b[0m     \u001b[39mfor\u001b[39;00m conta \u001b[39min\u001b[39;00m contas:\n\u001b[1;32m----> <a href='vscode-notebook-cell:/c%3A/python/cursopython/intermediario/manipula%C3%A7%C3%A3o%20de%20strings/objetos_proprios.ipynb#X30sZmlsZQ%3D%3D?line=2'>3</a>\u001b[0m         conta\u001b[39m.\u001b[39;49mdeposita(\u001b[39m100\u001b[39m)\n",
      "\u001b[1;31mAttributeError\u001b[0m: 'int' object has no attribute 'deposita'"
     ]
    }
   ],
   "source": [
    "deposita_para_todos(contas)\n",
    "print(contas[0], contas[1], contas[2])"
   ]
  },
  {
   "attachments": {},
   "cell_type": "markdown",
   "metadata": {},
   "source": [
    "### Tuplas"
   ]
  },
  {
   "cell_type": "code",
   "execution_count": 20,
   "metadata": {},
   "outputs": [],
   "source": [
    "stephanie = ('Stephanie', 25, 1997)\n",
    "manu = ('Manu', 23, 2000)"
   ]
  },
  {
   "cell_type": "code",
   "execution_count": 22,
   "metadata": {},
   "outputs": [
    {
     "name": "stdout",
     "output_type": "stream",
     "text": [
      "('Manu', 23, 2000)\n"
     ]
    }
   ],
   "source": [
    "print(manu)"
   ]
  },
  {
   "cell_type": "code",
   "execution_count": 28,
   "metadata": {},
   "outputs": [],
   "source": [
    "def depositar(contas): # variação 'funcional' (separando o comportamento dos dados)\n",
    "    novo_saldo = contas[0] + 100\n",
    "    codigo = contas[0]\n",
    "    return (codigo, novo_saldo)"
   ]
  },
  {
   "cell_type": "code",
   "execution_count": 32,
   "metadata": {},
   "outputs": [
    {
     "ename": "TypeError",
     "evalue": "'ContaCorrente' object is not subscriptable",
     "output_type": "error",
     "traceback": [
      "\u001b[1;31m---------------------------------------------------------------------------\u001b[0m",
      "\u001b[1;31mTypeError\u001b[0m                                 Traceback (most recent call last)",
      "\u001b[1;32mc:\\python\\cursopython\\intermediario\\manipulação de strings\\objetos_proprios.ipynb Cell 18\u001b[0m in \u001b[0;36m1\n\u001b[1;32m----> <a href='vscode-notebook-cell:/c%3A/python/cursopython/intermediario/manipula%C3%A7%C3%A3o%20de%20strings/objetos_proprios.ipynb#X41sZmlsZQ%3D%3D?line=0'>1</a>\u001b[0m conta_dani \u001b[39m=\u001b[39m depositar(conta_dani)\n",
      "\u001b[1;32mc:\\python\\cursopython\\intermediario\\manipulação de strings\\objetos_proprios.ipynb Cell 18\u001b[0m in \u001b[0;36m2\n\u001b[0;32m      <a href='vscode-notebook-cell:/c%3A/python/cursopython/intermediario/manipula%C3%A7%C3%A3o%20de%20strings/objetos_proprios.ipynb#X41sZmlsZQ%3D%3D?line=0'>1</a>\u001b[0m \u001b[39mdef\u001b[39;00m \u001b[39mdepositar\u001b[39m(contas): \u001b[39m# variação 'funcional' (separando o comportamento dos dados)\u001b[39;00m\n\u001b[1;32m----> <a href='vscode-notebook-cell:/c%3A/python/cursopython/intermediario/manipula%C3%A7%C3%A3o%20de%20strings/objetos_proprios.ipynb#X41sZmlsZQ%3D%3D?line=1'>2</a>\u001b[0m     novo_saldo \u001b[39m=\u001b[39m contas[\u001b[39m0\u001b[39;49m] \u001b[39m+\u001b[39m \u001b[39m100\u001b[39m\n\u001b[0;32m      <a href='vscode-notebook-cell:/c%3A/python/cursopython/intermediario/manipula%C3%A7%C3%A3o%20de%20strings/objetos_proprios.ipynb#X41sZmlsZQ%3D%3D?line=2'>3</a>\u001b[0m     codigo \u001b[39m=\u001b[39m contas[\u001b[39m0\u001b[39m]\n\u001b[0;32m      <a href='vscode-notebook-cell:/c%3A/python/cursopython/intermediario/manipula%C3%A7%C3%A3o%20de%20strings/objetos_proprios.ipynb#X41sZmlsZQ%3D%3D?line=3'>4</a>\u001b[0m     \u001b[39mreturn\u001b[39;00m (codigo, novo_saldo)\n",
      "\u001b[1;31mTypeError\u001b[0m: 'ContaCorrente' object is not subscriptable"
     ]
    }
   ],
   "source": [
    "conta_dani = depositar(conta_dani)"
   ]
  },
  {
   "cell_type": "code",
   "execution_count": 34,
   "metadata": {},
   "outputs": [
    {
     "name": "stdout",
     "output_type": "stream",
     "text": [
      "[('Stephanie', 25, 1997), ('Manu', 23, 2000)]\n"
     ]
    }
   ],
   "source": [
    "#lista de tuplas \n",
    "\n",
    "usuarios = [stephanie, manu]\n",
    "print(usuarios)"
   ]
  },
  {
   "cell_type": "code",
   "execution_count": 35,
   "metadata": {},
   "outputs": [],
   "source": [
    "usuarios.append(('Ana', 45, 1876))"
   ]
  },
  {
   "cell_type": "code",
   "execution_count": 36,
   "metadata": {},
   "outputs": [
    {
     "data": {
      "text/plain": [
       "[('Stephanie', 25, 1997), ('Manu', 23, 2000), ('Ana', 45, 1876)]"
      ]
     },
     "execution_count": 36,
     "metadata": {},
     "output_type": "execute_result"
    }
   ],
   "source": [
    "usuarios"
   ]
  },
  {
   "cell_type": "code",
   "execution_count": 37,
   "metadata": {},
   "outputs": [],
   "source": [
    "conta_x = ContaCorrente(667)\n",
    "conta_x.deposita(844)"
   ]
  },
  {
   "cell_type": "code",
   "execution_count": 40,
   "metadata": {},
   "outputs": [
    {
     "data": {
      "text/plain": [
       "(<__main__.ContaCorrente at 0x1f37498cf40>,\n",
       " <__main__.ContaCorrente at 0x1f37498e620>,\n",
       " <__main__.ContaCorrente at 0x1f374acdc60>)"
      ]
     },
     "execution_count": 40,
     "metadata": {},
     "output_type": "execute_result"
    }
   ],
   "source": [
    "contas = (conta_dani, conta_manu, conta_x)\n",
    "contas"
   ]
  },
  {
   "cell_type": "code",
   "execution_count": 41,
   "metadata": {},
   "outputs": [
    {
     "name": "stdout",
     "output_type": "stream",
     "text": [
      ">> Codigo 13345 saldo 500 <<\n",
      ">> Codigo 756374 saldo 1156 <<\n",
      ">> Codigo 667 saldo 844 <<\n"
     ]
    }
   ],
   "source": [
    "for conta in contas:\n",
    "    print(conta)"
   ]
  },
  {
   "cell_type": "code",
   "execution_count": 43,
   "metadata": {},
   "outputs": [],
   "source": [
    "contas[0].deposita(300)"
   ]
  },
  {
   "cell_type": "code",
   "execution_count": 44,
   "metadata": {},
   "outputs": [
    {
     "name": "stdout",
     "output_type": "stream",
     "text": [
      ">> Codigo 13345 saldo 800 <<\n",
      ">> Codigo 756374 saldo 1156 <<\n",
      ">> Codigo 667 saldo 844 <<\n"
     ]
    }
   ],
   "source": [
    "for conta in contas:\n",
    "    print(conta)"
   ]
  },
  {
   "attachments": {},
   "cell_type": "markdown",
   "metadata": {},
   "source": [
    "### Herança e polimorfismo"
   ]
  },
  {
   "cell_type": "code",
   "execution_count": 45,
   "metadata": {},
   "outputs": [],
   "source": [
    "class Conta:\n",
    "\n",
    "    def __init__(self, codigo):\n",
    "        self._codigo = codigo\n",
    "        self._saldo = 0\n",
    "\n",
    "    def deposita(self, valor):\n",
    "        self._saldo += valor\n",
    "\n",
    "    def __str__(self):\n",
    "        return f\">> Codigo {self._codigo} saldo {self._saldo} <<\""
   ]
  },
  {
   "cell_type": "code",
   "execution_count": 46,
   "metadata": {},
   "outputs": [
    {
     "name": "stdout",
     "output_type": "stream",
     "text": [
      ">> Codigo 88 saldo 0 <<\n"
     ]
    }
   ],
   "source": [
    "print(Conta(88))"
   ]
  },
  {
   "cell_type": "code",
   "execution_count": 49,
   "metadata": {},
   "outputs": [],
   "source": [
    "class ContaCorrente(Conta):\n",
    "\n",
    "    def passa_o_mes(self):\n",
    "        self._saldo -= 2\n",
    "\n",
    "class ContaPoupanca(Conta):\n",
    "\n",
    "    def passa_o_mes(self):\n",
    "       self._saldo *= 1.01\n",
    "       self._saldo -= 3 \n",
    "\n"
   ]
  },
  {
   "cell_type": "code",
   "execution_count": 50,
   "metadata": {},
   "outputs": [
    {
     "name": "stdout",
     "output_type": "stream",
     "text": [
      ">> Codigo 16 saldo 998 <<\n"
     ]
    }
   ],
   "source": [
    "conta16 = ContaCorrente(16)\n",
    "conta16.deposita(1000)\n",
    "conta16.passa_o_mes()\n",
    "print(conta16)"
   ]
  },
  {
   "cell_type": "code",
   "execution_count": 51,
   "metadata": {},
   "outputs": [
    {
     "name": "stdout",
     "output_type": "stream",
     "text": [
      ">> Codigo 17 saldo 1007.0 <<\n"
     ]
    }
   ],
   "source": [
    "conta17 = ContaPoupanca(17)\n",
    "conta17.deposita(1000)\n",
    "conta17.passa_o_mes()\n",
    "print(conta17)"
   ]
  },
  {
   "cell_type": "code",
   "execution_count": 52,
   "metadata": {},
   "outputs": [
    {
     "name": "stdout",
     "output_type": "stream",
     "text": [
      ">> Codigo 16 saldo 998 <<\n",
      ">> Codigo 17 saldo 1007.0 <<\n"
     ]
    }
   ],
   "source": [
    "conta16 = ContaCorrente(16)\n",
    "conta16.deposita(1000)\n",
    "conta17 = ContaPoupanca(17)\n",
    "conta17.deposita(1000)\n",
    "\n",
    "contas = [conta16, conta17]\n",
    "\n",
    "for conta in contas:\n",
    "    conta.passa_o_mes() # duck typing\n",
    "    print(conta)"
   ]
  },
  {
   "attachments": {},
   "cell_type": "markdown",
   "metadata": {},
   "source": [
    "### Arrays e Numpy"
   ]
  },
  {
   "cell_type": "code",
   "execution_count": 57,
   "metadata": {},
   "outputs": [],
   "source": [
    "import array as arr\n",
    "import numpy as np"
   ]
  },
  {
   "cell_type": "code",
   "execution_count": 59,
   "metadata": {},
   "outputs": [
    {
     "data": {
      "text/plain": [
       "array('d', [1.0, 2.0, 3.0, 4.0, 5.0])"
      ]
     },
     "execution_count": 59,
     "metadata": {},
     "output_type": "execute_result"
    }
   ],
   "source": [
    "arr.array('d', [1,2,3,4,5])"
   ]
  },
  {
   "cell_type": "code",
   "execution_count": 61,
   "metadata": {},
   "outputs": [
    {
     "data": {
      "text/plain": [
       "array([1, 2, 3, 4])"
      ]
     },
     "execution_count": 61,
     "metadata": {},
     "output_type": "execute_result"
    }
   ],
   "source": [
    "np.array([1,2,3,4])"
   ]
  },
  {
   "cell_type": "code",
   "execution_count": 64,
   "metadata": {},
   "outputs": [],
   "source": [
    "class ContaSalario:\n",
    "\n",
    "    def __init__(self, codigo):\n",
    "        self._codigo = codigo \n",
    "        self._saldo = 0\n",
    "\n",
    "    def deposita(self, valor):\n",
    "        self._saldo += valor\n",
    "    \n",
    "    def __str__(self):\n",
    "        return f'[>> Código {self._codigo} saldo {self._saldo} <<]'"
   ]
  },
  {
   "cell_type": "code",
   "execution_count": 67,
   "metadata": {},
   "outputs": [
    {
     "name": "stdout",
     "output_type": "stream",
     "text": [
      "[>> Código 12 saldo 0 <<]\n"
     ]
    }
   ],
   "source": [
    "conta1 = ContaSalario(12)\n",
    "print(conta1)"
   ]
  },
  {
   "cell_type": "code",
   "execution_count": 68,
   "metadata": {},
   "outputs": [
    {
     "name": "stdout",
     "output_type": "stream",
     "text": [
      "[>> Código 12 saldo 0 <<]\n"
     ]
    }
   ],
   "source": [
    "conta2 = ContaSalario(12)\n",
    "print(conta2)"
   ]
  },
  {
   "cell_type": "code",
   "execution_count": 69,
   "metadata": {},
   "outputs": [
    {
     "data": {
      "text/plain": [
       "False"
      ]
     },
     "execution_count": 69,
     "metadata": {},
     "output_type": "execute_result"
    }
   ],
   "source": [
    "conta1 == conta2 "
   ]
  },
  {
   "cell_type": "code",
   "execution_count": 71,
   "metadata": {},
   "outputs": [
    {
     "data": {
      "text/plain": [
       "True"
      ]
     },
     "execution_count": 71,
     "metadata": {},
     "output_type": "execute_result"
    }
   ],
   "source": [
    "contas = [conta1]\n",
    "conta1 in contas"
   ]
  },
  {
   "cell_type": "code",
   "execution_count": 72,
   "metadata": {},
   "outputs": [
    {
     "data": {
      "text/plain": [
       "False"
      ]
     },
     "execution_count": 72,
     "metadata": {},
     "output_type": "execute_result"
    }
   ],
   "source": [
    "conta2 in contas"
   ]
  },
  {
   "cell_type": "code",
   "execution_count": 79,
   "metadata": {},
   "outputs": [],
   "source": [
    "class ContaSalario:\n",
    "\n",
    "    def __init__(self, codigo):\n",
    "        self._codigo = codigo \n",
    "        self._saldo = 0\n",
    " \n",
    "    def __eq__(self, outro): # função de igualdade\n",
    "        self._codigo == outro._codigo and self._saldo\n",
    "\n",
    "    def deposita(self, valor):\n",
    "        self._saldo += valor\n",
    "    \n",
    "    def __str__(self):\n",
    "        return f'[>> Código {self._codigo} saldo {self._saldo} <<]'"
   ]
  },
  {
   "cell_type": "code",
   "execution_count": 80,
   "metadata": {},
   "outputs": [],
   "source": [
    "conta1 = ContaSalario(12)\n",
    "conta2 = ContaSalario(12)"
   ]
  },
  {
   "cell_type": "code",
   "execution_count": 81,
   "metadata": {},
   "outputs": [],
   "source": [
    "\n",
    "conta1 == conta2 "
   ]
  },
  {
   "cell_type": "code",
   "execution_count": 82,
   "metadata": {},
   "outputs": [
    {
     "data": {
      "text/plain": [
       "True"
      ]
     },
     "execution_count": 82,
     "metadata": {},
     "output_type": "execute_result"
    }
   ],
   "source": [
    "conta1 != conta2"
   ]
  },
  {
   "cell_type": "code",
   "execution_count": 83,
   "metadata": {},
   "outputs": [],
   "source": [
    "conta1.deposita(10)"
   ]
  },
  {
   "cell_type": "code",
   "execution_count": 86,
   "metadata": {},
   "outputs": [
    {
     "data": {
      "text/plain": [
       "True"
      ]
     },
     "execution_count": 86,
     "metadata": {},
     "output_type": "execute_result"
    }
   ],
   "source": [
    "conta1 != conta2"
   ]
  }
 ],
 "metadata": {
  "kernelspec": {
   "display_name": "Python 3",
   "language": "python",
   "name": "python3"
  },
  "language_info": {
   "codemirror_mode": {
    "name": "ipython",
    "version": 3
   },
   "file_extension": ".py",
   "mimetype": "text/x-python",
   "name": "python",
   "nbconvert_exporter": "python",
   "pygments_lexer": "ipython3",
   "version": "3.10.6"
  },
  "orig_nbformat": 4
 },
 "nbformat": 4,
 "nbformat_minor": 2
}
