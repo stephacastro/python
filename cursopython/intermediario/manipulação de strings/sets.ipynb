{
 "cells": [
  {
   "cell_type": "code",
   "execution_count": 2,
   "metadata": {},
   "outputs": [],
   "source": [
    "usuarios_python = [12, 53, 24, 56]\n",
    "usuarios_djando = [12, 67, 34, 69]"
   ]
  },
  {
   "cell_type": "code",
   "execution_count": 3,
   "metadata": {},
   "outputs": [
    {
     "data": {
      "text/plain": [
       "[12, 53, 24, 56, 12, 67, 34, 69]"
      ]
     },
     "execution_count": 3,
     "metadata": {},
     "output_type": "execute_result"
    }
   ],
   "source": [
    "alunos = usuarios_python.copy()\n",
    "alunos.extend(usuarios_djando)\n",
    "alunos"
   ]
  },
  {
   "cell_type": "code",
   "execution_count": 4,
   "metadata": {},
   "outputs": [
    {
     "data": {
      "text/plain": [
       "8"
      ]
     },
     "execution_count": 4,
     "metadata": {},
     "output_type": "execute_result"
    }
   ],
   "source": [
    "len(alunos)"
   ]
  },
  {
   "cell_type": "code",
   "execution_count": 5,
   "metadata": {},
   "outputs": [
    {
     "data": {
      "text/plain": [
       "{12, 24, 34, 53, 56, 67, 69}"
      ]
     },
     "execution_count": 5,
     "metadata": {},
     "output_type": "execute_result"
    }
   ],
   "source": [
    "# ignorando elementos repetidos - conjuntos\n",
    "\n",
    "set(alunos)"
   ]
  },
  {
   "cell_type": "code",
   "execution_count": 6,
   "metadata": {},
   "outputs": [
    {
     "data": {
      "text/plain": [
       "{1, 2, 3}"
      ]
     },
     "execution_count": 6,
     "metadata": {},
     "output_type": "execute_result"
    }
   ],
   "source": [
    "set([1,2,3])"
   ]
  },
  {
   "cell_type": "code",
   "execution_count": 7,
   "metadata": {},
   "outputs": [
    {
     "data": {
      "text/plain": [
       "set"
      ]
     },
     "execution_count": 7,
     "metadata": {},
     "output_type": "execute_result"
    }
   ],
   "source": [
    "type({1,2,3})"
   ]
  },
  {
   "cell_type": "code",
   "execution_count": 8,
   "metadata": {},
   "outputs": [
    {
     "data": {
      "text/plain": [
       "{12, 24, 53, 56}"
      ]
     },
     "execution_count": 8,
     "metadata": {},
     "output_type": "execute_result"
    }
   ],
   "source": [
    "usuarios_python = {12, 53, 24, 56}\n",
    "usuarios_djando = {12, 67, 34, 69}\n",
    "\n",
    "usuarios_python"
   ]
  },
  {
   "cell_type": "code",
   "execution_count": 9,
   "metadata": {},
   "outputs": [
    {
     "name": "stdout",
     "output_type": "stream",
     "text": [
      "34\n",
      "67\n",
      "69\n",
      "12\n",
      "53\n",
      "24\n",
      "56\n"
     ]
    }
   ],
   "source": [
    "for usuario in set(alunos):\n",
    "    print(usuario)"
   ]
  },
  {
   "cell_type": "code",
   "execution_count": 10,
   "metadata": {},
   "outputs": [
    {
     "data": {
      "text/plain": [
       "{12}"
      ]
     },
     "execution_count": 10,
     "metadata": {},
     "output_type": "execute_result"
    }
   ],
   "source": [
    "# operador lógico E '&'\n",
    "usuarios_python & usuarios_djando"
   ]
  },
  {
   "cell_type": "code",
   "execution_count": 11,
   "metadata": {},
   "outputs": [
    {
     "data": {
      "text/plain": [
       "{24, 53, 56}"
      ]
     },
     "execution_count": 11,
     "metadata": {},
     "output_type": "execute_result"
    }
   ],
   "source": [
    "usuarios_python - usuarios_djando"
   ]
  },
  {
   "cell_type": "code",
   "execution_count": 12,
   "metadata": {},
   "outputs": [
    {
     "data": {
      "text/plain": [
       "True"
      ]
     },
     "execution_count": 12,
     "metadata": {},
     "output_type": "execute_result"
    }
   ],
   "source": [
    "fez_python_mas_nao_fez_django = usuarios_python - usuarios_djando\n",
    "53 in fez_python_mas_nao_fez_django"
   ]
  },
  {
   "cell_type": "code",
   "execution_count": 13,
   "metadata": {},
   "outputs": [
    {
     "data": {
      "text/plain": [
       "9"
      ]
     },
     "execution_count": 13,
     "metadata": {},
     "output_type": "execute_result"
    }
   ],
   "source": [
    "usuarios = {1,2,4,5,7,12,57,23,56}\n",
    "len(usuarios)"
   ]
  },
  {
   "cell_type": "code",
   "execution_count": 14,
   "metadata": {},
   "outputs": [
    {
     "data": {
      "text/plain": [
       "10"
      ]
     },
     "execution_count": 14,
     "metadata": {},
     "output_type": "execute_result"
    }
   ],
   "source": [
    "usuarios.add(16)\n",
    "len(usuarios)"
   ]
  },
  {
   "cell_type": "code",
   "execution_count": 15,
   "metadata": {},
   "outputs": [
    {
     "data": {
      "text/plain": [
       "{1, 2, 4, 5, 7, 12, 16, 23, 56, 57}"
      ]
     },
     "execution_count": 15,
     "metadata": {},
     "output_type": "execute_result"
    }
   ],
   "source": [
    "usuarios"
   ]
  },
  {
   "cell_type": "code",
   "execution_count": 16,
   "metadata": {},
   "outputs": [
    {
     "data": {
      "text/plain": [
       "11"
      ]
     },
     "execution_count": 16,
     "metadata": {},
     "output_type": "execute_result"
    }
   ],
   "source": [
    "usuarios.add(78)\n",
    "len(usuarios)"
   ]
  },
  {
   "cell_type": "code",
   "execution_count": 17,
   "metadata": {},
   "outputs": [
    {
     "data": {
      "text/plain": [
       "{1, 2, 4, 5, 7, 12, 16, 23, 56, 57, 78}"
      ]
     },
     "execution_count": 17,
     "metadata": {},
     "output_type": "execute_result"
    }
   ],
   "source": [
    "usuarios"
   ]
  },
  {
   "cell_type": "code",
   "execution_count": 18,
   "metadata": {},
   "outputs": [],
   "source": [
    "usuarios = frozenset(usuarios)"
   ]
  },
  {
   "cell_type": "code",
   "execution_count": 19,
   "metadata": {},
   "outputs": [
    {
     "data": {
      "text/plain": [
       "frozenset({1, 2, 4, 5, 7, 12, 16, 23, 56, 57, 78})"
      ]
     },
     "execution_count": 19,
     "metadata": {},
     "output_type": "execute_result"
    }
   ],
   "source": [
    "usuarios"
   ]
  },
  {
   "cell_type": "code",
   "execution_count": 20,
   "metadata": {},
   "outputs": [
    {
     "ename": "AttributeError",
     "evalue": "'frozenset' object has no attribute 'add'",
     "output_type": "error",
     "traceback": [
      "\u001b[1;31m---------------------------------------------------------------------------\u001b[0m",
      "\u001b[1;31mAttributeError\u001b[0m                            Traceback (most recent call last)",
      "\u001b[1;32mc:\\python\\cursopython\\intermediario\\manipulação de strings\\sets.ipynb Cell 19\u001b[0m in \u001b[0;36m1\n\u001b[1;32m----> <a href='vscode-notebook-cell:/c%3A/python/cursopython/intermediario/manipula%C3%A7%C3%A3o%20de%20strings/sets.ipynb#X24sZmlsZQ%3D%3D?line=0'>1</a>\u001b[0m usuarios\u001b[39m.\u001b[39;49madd(\u001b[39m90\u001b[39m)\n",
      "\u001b[1;31mAttributeError\u001b[0m: 'frozenset' object has no attribute 'add'"
     ]
    }
   ],
   "source": [
    "usuarios.add(90)"
   ]
  },
  {
   "cell_type": "code",
   "execution_count": 21,
   "metadata": {},
   "outputs": [
    {
     "data": {
      "text/plain": [
       "['Bem',\n",
       " 'vindo,',\n",
       " 'meu',\n",
       " 'nome',\n",
       " 'é',\n",
       " 'Stephanie,',\n",
       " 'eu',\n",
       " 'gosto',\n",
       " 'muito',\n",
       " 'de',\n",
       " 'viajar',\n",
       " 'e',\n",
       " 'vou',\n",
       " 'viajar',\n",
       " 'no',\n",
       " 'próximo',\n",
       " 'final',\n",
       " 'de',\n",
       " 'semana']"
      ]
     },
     "execution_count": 21,
     "metadata": {},
     "output_type": "execute_result"
    }
   ],
   "source": [
    "# split quebra o texto com o delimitador espaços em branco\n",
    "texto = 'Bem vindo, meu nome é Stephanie, eu gosto muito de viajar e vou viajar no próximo final de semana'\n",
    "texto.split()"
   ]
  },
  {
   "cell_type": "code",
   "execution_count": 22,
   "metadata": {},
   "outputs": [
    {
     "data": {
      "text/plain": [
       "{'Bem',\n",
       " 'Stephanie,',\n",
       " 'de',\n",
       " 'e',\n",
       " 'eu',\n",
       " 'final',\n",
       " 'gosto',\n",
       " 'meu',\n",
       " 'muito',\n",
       " 'no',\n",
       " 'nome',\n",
       " 'próximo',\n",
       " 'semana',\n",
       " 'viajar',\n",
       " 'vindo,',\n",
       " 'vou',\n",
       " 'é'}"
      ]
     },
     "execution_count": 22,
     "metadata": {},
     "output_type": "execute_result"
    }
   ],
   "source": [
    "# removendo duplicidade com set\n",
    "set(texto.split())"
   ]
  },
  {
   "attachments": {},
   "cell_type": "markdown",
   "metadata": {},
   "source": [
    "#### Dicionário"
   ]
  },
  {
   "cell_type": "code",
   "execution_count": 25,
   "metadata": {},
   "outputs": [
    {
     "data": {
      "text/plain": [
       "dict"
      ]
     },
     "execution_count": 25,
     "metadata": {},
     "output_type": "execute_result"
    }
   ],
   "source": [
    "dicionario = {'Stephanie': 1, 'Viajar': 2, 'Semana': 3}\n",
    "type(dicionario)"
   ]
  },
  {
   "cell_type": "code",
   "execution_count": 26,
   "metadata": {},
   "outputs": [
    {
     "data": {
      "text/plain": [
       "1"
      ]
     },
     "execution_count": 26,
     "metadata": {},
     "output_type": "execute_result"
    }
   ],
   "source": [
    "dicionario['Stephanie']"
   ]
  },
  {
   "cell_type": "code",
   "execution_count": 27,
   "metadata": {},
   "outputs": [
    {
     "data": {
      "text/plain": [
       "2"
      ]
     },
     "execution_count": 27,
     "metadata": {},
     "output_type": "execute_result"
    }
   ],
   "source": [
    "dicionario['Viajar']"
   ]
  },
  {
   "cell_type": "code",
   "execution_count": 29,
   "metadata": {},
   "outputs": [
    {
     "data": {
      "text/plain": [
       "0"
      ]
     },
     "execution_count": 29,
     "metadata": {},
     "output_type": "execute_result"
    }
   ],
   "source": [
    "# usando get para retornar 0 se não tiver o valor no dicionario\n",
    "dicionario.get('Mês', 0)"
   ]
  },
  {
   "cell_type": "code",
   "execution_count": 31,
   "metadata": {},
   "outputs": [
    {
     "data": {
      "text/plain": [
       "dict"
      ]
     },
     "execution_count": 31,
     "metadata": {},
     "output_type": "execute_result"
    }
   ],
   "source": [
    "exemplo = dict(Stephanie = 1, Viajar = 2)\n",
    "type(exemplo)"
   ]
  },
  {
   "cell_type": "code",
   "execution_count": 32,
   "metadata": {},
   "outputs": [],
   "source": [
    "dicionario['Final'] = 3"
   ]
  },
  {
   "cell_type": "code",
   "execution_count": 33,
   "metadata": {},
   "outputs": [
    {
     "data": {
      "text/plain": [
       "{'Stephanie': 1, 'Viajar': 2, 'Semana': 3, 'Final': 3}"
      ]
     },
     "execution_count": 33,
     "metadata": {},
     "output_type": "execute_result"
    }
   ],
   "source": [
    "dicionario"
   ]
  },
  {
   "cell_type": "code",
   "execution_count": 34,
   "metadata": {},
   "outputs": [],
   "source": [
    "del dicionario['Final']"
   ]
  },
  {
   "cell_type": "code",
   "execution_count": 35,
   "metadata": {},
   "outputs": [
    {
     "data": {
      "text/plain": [
       "{'Stephanie': 1, 'Viajar': 2, 'Semana': 3}"
      ]
     },
     "execution_count": 35,
     "metadata": {},
     "output_type": "execute_result"
    }
   ],
   "source": [
    "dicionario"
   ]
  },
  {
   "cell_type": "code",
   "execution_count": 36,
   "metadata": {},
   "outputs": [
    {
     "data": {
      "text/plain": [
       "True"
      ]
     },
     "execution_count": 36,
     "metadata": {},
     "output_type": "execute_result"
    }
   ],
   "source": [
    "'Stephanie' in dicionario"
   ]
  },
  {
   "cell_type": "code",
   "execution_count": 37,
   "metadata": {},
   "outputs": [
    {
     "data": {
      "text/plain": [
       "False"
      ]
     },
     "execution_count": 37,
     "metadata": {},
     "output_type": "execute_result"
    }
   ],
   "source": [
    "'Final' in dicionario"
   ]
  },
  {
   "cell_type": "code",
   "execution_count": 38,
   "metadata": {},
   "outputs": [
    {
     "name": "stdout",
     "output_type": "stream",
     "text": [
      "Stephanie\n",
      "Viajar\n",
      "Semana\n"
     ]
    }
   ],
   "source": [
    "for elemento in dicionario:\n",
    "    print(elemento)"
   ]
  },
  {
   "cell_type": "code",
   "execution_count": 39,
   "metadata": {},
   "outputs": [
    {
     "name": "stdout",
     "output_type": "stream",
     "text": [
      "Stephanie\n",
      "Viajar\n",
      "Semana\n"
     ]
    }
   ],
   "source": [
    "for elemento in dicionario.keys():\n",
    "    print(elemento)"
   ]
  },
  {
   "cell_type": "code",
   "execution_count": 40,
   "metadata": {},
   "outputs": [
    {
     "name": "stdout",
     "output_type": "stream",
     "text": [
      "1\n",
      "2\n",
      "3\n"
     ]
    }
   ],
   "source": [
    "for elemento in dicionario.values():\n",
    "    print(elemento)"
   ]
  },
  {
   "cell_type": "code",
   "execution_count": 41,
   "metadata": {},
   "outputs": [
    {
     "name": "stdout",
     "output_type": "stream",
     "text": [
      "Stephanie 1\n",
      "Viajar 2\n",
      "Semana 3\n"
     ]
    }
   ],
   "source": [
    "for elemento in dicionario.keys():\n",
    "    print(elemento, dicionario[elemento])"
   ]
  },
  {
   "cell_type": "code",
   "execution_count": 43,
   "metadata": {},
   "outputs": [
    {
     "name": "stdout",
     "output_type": "stream",
     "text": [
      "('Stephanie', 1)\n",
      "('Viajar', 2)\n",
      "('Semana', 3)\n"
     ]
    }
   ],
   "source": [
    "for elemento in dicionario.items():\n",
    "    print(elemento)"
   ]
  },
  {
   "cell_type": "code",
   "execution_count": 44,
   "metadata": {},
   "outputs": [],
   "source": [
    "dicionario['Final'] = 3"
   ]
  },
  {
   "cell_type": "code",
   "execution_count": 45,
   "metadata": {},
   "outputs": [
    {
     "name": "stdout",
     "output_type": "stream",
     "text": [
      "('Stephanie', 1)\n",
      "('Viajar', 2)\n",
      "('Semana', 3)\n",
      "('Final', 3)\n"
     ]
    }
   ],
   "source": [
    "for elemento in dicionario.items():\n",
    "    print(elemento)"
   ]
  },
  {
   "cell_type": "code",
   "execution_count": 46,
   "metadata": {},
   "outputs": [
    {
     "name": "stdout",
     "output_type": "stream",
     "text": [
      "Stephanie = 1\n",
      "Viajar = 2\n",
      "Semana = 3\n",
      "Final = 3\n"
     ]
    }
   ],
   "source": [
    "# desempacotando \n",
    "\n",
    "for chave, valor in dicionario.items():\n",
    "    print(chave, '=', valor)"
   ]
  },
  {
   "cell_type": "code",
   "execution_count": 48,
   "metadata": {},
   "outputs": [
    {
     "data": {
      "text/plain": [
       "['palavra Stephanie', 'palavra Viajar', 'palavra Semana', 'palavra Final']"
      ]
     },
     "execution_count": 48,
     "metadata": {},
     "output_type": "execute_result"
    }
   ],
   "source": [
    "[f\"palavra {elemento}\" for elemento in dicionario.keys()]"
   ]
  },
  {
   "cell_type": "code",
   "execution_count": 56,
   "metadata": {},
   "outputs": [],
   "source": [
    "texto = 'Bem vindo, meu nome é Stephanie, eu gosto muito de viajar e vou viajar no próximo final de semana e vai ser muito legal'\n",
    "modificado = texto.lower()"
   ]
  },
  {
   "cell_type": "code",
   "execution_count": 57,
   "metadata": {},
   "outputs": [
    {
     "data": {
      "text/plain": [
       "{'bem': 1,\n",
       " 'vindo,': 1,\n",
       " 'meu': 1,\n",
       " 'nome': 1,\n",
       " 'é': 1,\n",
       " 'stephanie,': 1,\n",
       " 'eu': 1,\n",
       " 'gosto': 1,\n",
       " 'muito': 2,\n",
       " 'de': 2,\n",
       " 'viajar': 2,\n",
       " 'e': 2,\n",
       " 'vou': 1,\n",
       " 'no': 1,\n",
       " 'próximo': 1,\n",
       " 'final': 1,\n",
       " 'semana': 1,\n",
       " 'vai': 1,\n",
       " 'ser': 1,\n",
       " 'legal': 1}"
      ]
     },
     "execution_count": 57,
     "metadata": {},
     "output_type": "execute_result"
    }
   ],
   "source": [
    "apareceu = {}\n",
    "for palavra  in modificado.split():\n",
    "    ate_agora  = apareceu.get(palavra, 0)\n",
    "    apareceu[palavra] = ate_agora + 1\n",
    "\n",
    "apareceu"
   ]
  },
  {
   "cell_type": "code",
   "execution_count": 58,
   "metadata": {},
   "outputs": [
    {
     "data": {
      "text/plain": [
       "defaultdict(int,\n",
       "            {'bem': 1,\n",
       "             'vindo,': 1,\n",
       "             'meu': 1,\n",
       "             'nome': 1,\n",
       "             'é': 1,\n",
       "             'stephanie,': 1,\n",
       "             'eu': 1,\n",
       "             'gosto': 1,\n",
       "             'muito': 2,\n",
       "             'de': 2,\n",
       "             'viajar': 2,\n",
       "             'e': 2,\n",
       "             'vou': 1,\n",
       "             'no': 1,\n",
       "             'próximo': 1,\n",
       "             'final': 1,\n",
       "             'semana': 1,\n",
       "             'vai': 1,\n",
       "             'ser': 1,\n",
       "             'legal': 1})"
      ]
     },
     "execution_count": 58,
     "metadata": {},
     "output_type": "execute_result"
    }
   ],
   "source": [
    "from collections import defaultdict\n",
    "\n",
    "apareceu = defaultdict(int)\n",
    "\n",
    "for palavra  in modificado.split():\n",
    "    ate_agora  = apareceu[palavra]\n",
    "    apareceu[palavra] = ate_agora + 1\n",
    "\n",
    "apareceu"
   ]
  },
  {
   "attachments": {},
   "cell_type": "markdown",
   "metadata": {},
   "source": [
    "#### Counter"
   ]
  },
  {
   "cell_type": "code",
   "execution_count": 59,
   "metadata": {},
   "outputs": [
    {
     "data": {
      "text/plain": [
       "defaultdict(int,\n",
       "            {'bem': 1,\n",
       "             'vindo,': 1,\n",
       "             'meu': 1,\n",
       "             'nome': 1,\n",
       "             'é': 1,\n",
       "             'stephanie,': 1,\n",
       "             'eu': 1,\n",
       "             'gosto': 1,\n",
       "             'muito': 2,\n",
       "             'de': 2,\n",
       "             'viajar': 2,\n",
       "             'e': 2,\n",
       "             'vou': 1,\n",
       "             'no': 1,\n",
       "             'próximo': 1,\n",
       "             'final': 1,\n",
       "             'semana': 1,\n",
       "             'vai': 1,\n",
       "             'ser': 1,\n",
       "             'legal': 1})"
      ]
     },
     "execution_count": 59,
     "metadata": {},
     "output_type": "execute_result"
    }
   ],
   "source": [
    "apareceu = defaultdict(int)\n",
    "\n",
    "for palavra  in modificado.split():\n",
    "    apareceu[palavra] += 1\n",
    "\n",
    "apareceu"
   ]
  },
  {
   "cell_type": "code",
   "execution_count": 60,
   "metadata": {},
   "outputs": [],
   "source": [
    "class Conta: \n",
    "    def __init__(self):\n",
    "        print('Criando uma conta')"
   ]
  },
  {
   "cell_type": "code",
   "execution_count": 63,
   "metadata": {},
   "outputs": [
    {
     "name": "stdout",
     "output_type": "stream",
     "text": [
      "imprimindo uma conta\n"
     ]
    },
    {
     "data": {
      "text/plain": [
       "<__main__.Conta at 0x216ab00ab30>"
      ]
     },
     "execution_count": 63,
     "metadata": {},
     "output_type": "execute_result"
    }
   ],
   "source": [
    "contas = defaultdict(Conta)\n",
    "contas[15]"
   ]
  },
  {
   "cell_type": "code",
   "execution_count": 64,
   "metadata": {},
   "outputs": [
    {
     "name": "stdout",
     "output_type": "stream",
     "text": [
      "imprimindo uma conta\n"
     ]
    },
    {
     "data": {
      "text/plain": [
       "<__main__.Conta at 0x216ab0095d0>"
      ]
     },
     "execution_count": 64,
     "metadata": {},
     "output_type": "execute_result"
    }
   ],
   "source": [
    "contas[17]"
   ]
  },
  {
   "cell_type": "code",
   "execution_count": 65,
   "metadata": {},
   "outputs": [],
   "source": [
    "from collections import Counter"
   ]
  },
  {
   "cell_type": "code",
   "execution_count": 67,
   "metadata": {},
   "outputs": [
    {
     "data": {
      "text/plain": [
       "Counter({'bem': 1,\n",
       "         'vindo,': 1,\n",
       "         'meu': 1,\n",
       "         'nome': 1,\n",
       "         'é': 1,\n",
       "         'stephanie,': 1,\n",
       "         'eu': 1,\n",
       "         'gosto': 1,\n",
       "         'muito': 2,\n",
       "         'de': 2,\n",
       "         'viajar': 2,\n",
       "         'e': 2,\n",
       "         'vou': 1,\n",
       "         'no': 1,\n",
       "         'próximo': 1,\n",
       "         'final': 1,\n",
       "         'semana': 1,\n",
       "         'vai': 1,\n",
       "         'ser': 1,\n",
       "         'legal': 1})"
      ]
     },
     "execution_count": 67,
     "metadata": {},
     "output_type": "execute_result"
    }
   ],
   "source": [
    "apareceu = Counter()\n",
    "\n",
    "for palavra  in modificado.split():\n",
    "    apareceu[palavra] += 1\n",
    "\n",
    "apareceu"
   ]
  },
  {
   "cell_type": "code",
   "execution_count": 70,
   "metadata": {},
   "outputs": [
    {
     "data": {
      "text/plain": [
       "Counter({'bem': 1,\n",
       "         'vindo,': 1,\n",
       "         'meu': 1,\n",
       "         'nome': 1,\n",
       "         'é': 1,\n",
       "         'stephanie,': 1,\n",
       "         'eu': 1,\n",
       "         'gosto': 1,\n",
       "         'muito': 2,\n",
       "         'de': 2,\n",
       "         'viajar': 2,\n",
       "         'e': 2,\n",
       "         'vou': 1,\n",
       "         'no': 1,\n",
       "         'próximo': 1,\n",
       "         'final': 1,\n",
       "         'semana': 1,\n",
       "         'vai': 1,\n",
       "         'ser': 1,\n",
       "         'legal': 1})"
      ]
     },
     "execution_count": 70,
     "metadata": {},
     "output_type": "execute_result"
    }
   ],
   "source": [
    "apareceu = Counter(modificado.split())\n",
    "apareceu"
   ]
  },
  {
   "attachments": {},
   "cell_type": "markdown",
   "metadata": {},
   "source": [
    "#### Testando o uso de diversas coleções "
   ]
  },
  {
   "cell_type": "code",
   "execution_count": 71,
   "metadata": {},
   "outputs": [],
   "source": [
    "texto1 = \"\"\"\n",
    "Em um mundo cada vez mais dinâmico e tecnológico, a atenção pela otimização das operações tem sido uma realidade recorrente. As decisões realizadas em ambientes corporativos sempre trazem consequência, e é preciso que estejam cada vez mais voltadas às informações precisas e atualizadas, sendo um diferencial entre o sucesso (ou a ausência dele) a adaptação.\n",
    "\n",
    "Por conta disso, uma ação recorrente tem sido o uso do Business Intelligence - em português, Inteligência de Negócio -, que possibilita a transformação de informações úteis para a tomada de decisões de maneira atenta. Diante dessa possibilidade, talvez você esteja se perguntando: como de fato posso aplicar esses conceitos em situações reais do meu dia a dia? Neste artigo, por meio de storytelling (contação de estória), vamos conhecer as aplicações e os conceitos através do contexto de um negócio. Vamos lá?!\n",
    "\n",
    "O Business Intelligence (BI), por si só, está associado a grandes empresas, principalmente no ramo tecnológico. Para explorarmos melhor sua definição e as suas diversas possibilidades vamos considerar o Guarani, um pequeno mercado de bairro fictício. Dona Araci que é proprietária e atuante no dia a dia do mercadinho pensou que poderia ter mais lucros se entendesse melhor as preferências dos clientes.\n",
    "\n",
    "\"\"\"\n"
   ]
  },
  {
   "cell_type": "code",
   "execution_count": 72,
   "metadata": {},
   "outputs": [],
   "source": [
    "texto2 = \"\"\"\n",
    "Muitas dúvidas surgem na cabeça das pessoas que chegam ao final do ensino médio: as alternativas vão desde prestar o vestibular até procurar emprego, passando por prestar um concurso público e fazer um intercâmbio. Ainda hoje, o mais comum é ouvir que o ideal é ingressar em um curso de ensino superior após terminar a escola.\n",
    "\n",
    "Apesar de não ser uma regra, a faculdade se faz cada vez mais necessária para profissionais que desejam se destacar. E os dados comprovam essa teoria: 68% dos adultos com diploma de nível superior, diz um relatório da OCDE, ganham mais do que a média de todos os trabalhadores e a taxa de desemprego pode ser até 17% maior. Há lugares ainda que fazer faculdade significa ganhar mais que o dobro do que pessoas com ensino médio.\n",
    "\n",
    "Se ter um diploma é tão promissor, você deve estar se perguntando: mas, afinal, o que é ensino superior? Continuando a leitura, você vai descobrir como esse nível de ensino funciona, seus formatos, modalidades e possibilidades dentro do mundo universitário. No final, ainda separamos algumas dicas para te ajudar a escolher qual caminho seguir!\n",
    "\n",
    "O Ensino Superior – o antigo Terceiro Grau, como era chamado – é a fase dentro do ciclo de estudos que vem depois da Educação Básica e é composto por diversos níveis acadêmicos.\n",
    "\n",
    "Na prática, o objetivo do ensino superior é ajudar na captação de conhecimentos e habilidades para que uma pessoa domine a área escolhida e futuramente seja capaz de exercer uma profissão. Além de uma uma quantidade maior e mais complexa de conhecimento, o ensino superior permite que estudantes construam relações com profissionais do mercado, se desenvolvam pessoalmente e se tornem mais preparados para o mercado de trabalho.\n",
    "\n",
    "\"\"\""
   ]
  },
  {
   "cell_type": "code",
   "execution_count": 83,
   "metadata": {},
   "outputs": [
    {
     "data": {
      "text/plain": [
       "1281"
      ]
     },
     "execution_count": 83,
     "metadata": {},
     "output_type": "execute_result"
    }
   ],
   "source": [
    "apareceu = Counter(texto1.lower())\n",
    "total_caracteres = sum(apareceu.values())\n",
    "total_caracteres"
   ]
  },
  {
   "cell_type": "code",
   "execution_count": 84,
   "metadata": {},
   "outputs": [
    {
     "name": "stdout",
     "output_type": "stream",
     "text": [
      "0.00624512099921936\n",
      "0.1053864168618267\n",
      "0.03200624512099922\n",
      "0.15300546448087432\n",
      "0.02419984387197502\n",
      "0.04449648711943794\n",
      "0.0429352068696331\n",
      "0.0741608118657299\n",
      "0.03747072599531616\n",
      "0.09133489461358314\n",
      "0.00858704137392662\n",
      "0.00546448087431694\n",
      "0.06557377049180328\n",
      "0.07728337236533958\n",
      "0.00078064012490242\n",
      "0.04137392661982826\n",
      "0.02263856362217018\n",
      "0.00468384074941452\n",
      "0.01014832162373146\n",
      "0.01014832162373146\n",
      "0.00936768149882904\n",
      "0.00546448087431694\n",
      "0.0234192037470726\n",
      "0.047619047619047616\n",
      "0.00546448087431694\n",
      "0.00546448087431694\n",
      "0.00624512099921936\n",
      "0.00468384074941452\n",
      "0.00468384074941452\n",
      "0.00234192037470726\n",
      "0.00156128024980484\n",
      "0.00078064012490242\n",
      "0.00624512099921936\n",
      "0.00234192037470726\n",
      "0.00234192037470726\n",
      "0.00156128024980484\n",
      "0.00078064012490242\n",
      "0.00078064012490242\n",
      "0.00156128024980484\n",
      "0.00078064012490242\n",
      "0.00312256049960968\n",
      "0.00156128024980484\n",
      "0.00234192037470726\n",
      "0.00078064012490242\n",
      "0.00078064012490242\n"
     ]
    }
   ],
   "source": [
    "for letra, frequencia in apareceu.items():\n",
    "   tupla = (frequencia / total_caracteres)\n",
    "   print(tupla)\n",
    "\n"
   ]
  },
  {
   "cell_type": "code",
   "execution_count": 88,
   "metadata": {},
   "outputs": [
    {
     "data": {
      "text/plain": [
       "[('\\n', 0.00624512099921936),\n",
       " ('e', 0.1053864168618267),\n",
       " ('m', 0.03200624512099922),\n",
       " (' ', 0.15300546448087432),\n",
       " ('u', 0.02419984387197502),\n",
       " ('n', 0.04449648711943794),\n",
       " ('d', 0.0429352068696331),\n",
       " ('o', 0.0741608118657299),\n",
       " ('c', 0.03747072599531616),\n",
       " ('a', 0.09133489461358314),\n",
       " ('v', 0.00858704137392662),\n",
       " ('z', 0.00546448087431694),\n",
       " ('i', 0.06557377049180328),\n",
       " ('s', 0.07728337236533958),\n",
       " ('â', 0.00078064012490242),\n",
       " ('t', 0.04137392661982826),\n",
       " ('l', 0.02263856362217018),\n",
       " ('ó', 0.00468384074941452),\n",
       " ('g', 0.01014832162373146),\n",
       " (',', 0.01014832162373146),\n",
       " ('ç', 0.00936768149882904),\n",
       " ('ã', 0.00546448087431694),\n",
       " ('p', 0.0234192037470726),\n",
       " ('r', 0.047619047619047616),\n",
       " ('õ', 0.00546448087431694),\n",
       " ('.', 0.00546448087431694),\n",
       " ('b', 0.00624512099921936),\n",
       " ('q', 0.00468384074941452),\n",
       " ('ê', 0.00468384074941452),\n",
       " ('é', 0.00234192037470726),\n",
       " ('j', 0.00156128024980484),\n",
       " ('à', 0.00078064012490242),\n",
       " ('f', 0.00624512099921936),\n",
       " ('(', 0.00234192037470726),\n",
       " (')', 0.00234192037470726),\n",
       " ('-', 0.00156128024980484),\n",
       " ('ú', 0.00078064012490242),\n",
       " (':', 0.00078064012490242),\n",
       " ('?', 0.00156128024980484),\n",
       " ('y', 0.00078064012490242),\n",
       " ('h', 0.00312256049960968),\n",
       " ('x', 0.00156128024980484),\n",
       " ('á', 0.00234192037470726),\n",
       " ('!', 0.00078064012490242),\n",
       " ('í', 0.00078064012490242)]"
      ]
     },
     "execution_count": 88,
     "metadata": {},
     "output_type": "execute_result"
    }
   ],
   "source": [
    "[(letra, frequencia / total_caracteres)for letra, frequencia in apareceu.items()]\n"
   ]
  },
  {
   "cell_type": "code",
   "execution_count": 103,
   "metadata": {},
   "outputs": [],
   "source": [
    "def analisa_frequencia(texto):\n",
    "    apareceu = Counter(texto.lower())\n",
    "    total_caracteres = sum(apareceu.values())\n",
    "\n",
    "    proporcoes = [(letra, frequencia / total_caracteres)for letra, frequencia in apareceu.items()]\n",
    "    proporcoes = Counter(dict(proporcoes))\n",
    "    mais_comum = proporcoes.most_common(10)\n",
    "    for caracter, proporcao in mais_comum:\n",
    "        print('{} => {:.2f} %'.format(caracter, proporcao * 100))"
   ]
  },
  {
   "cell_type": "code",
   "execution_count": 106,
   "metadata": {},
   "outputs": [
    {
     "name": "stdout",
     "output_type": "stream",
     "text": [
      "  => 15.30 %\n",
      "e => 10.54 %\n",
      "a => 9.13 %\n",
      "s => 7.73 %\n",
      "o => 7.42 %\n",
      "i => 6.56 %\n",
      "r => 4.76 %\n",
      "n => 4.45 %\n",
      "d => 4.29 %\n",
      "t => 4.14 %\n"
     ]
    }
   ],
   "source": [
    "analisa_frequencia(texto1)"
   ]
  },
  {
   "cell_type": "code",
   "execution_count": 107,
   "metadata": {},
   "outputs": [
    {
     "name": "stdout",
     "output_type": "stream",
     "text": [
      "  => 16.46 %\n",
      "a => 9.75 %\n",
      "e => 9.40 %\n",
      "o => 8.11 %\n",
      "s => 7.12 %\n",
      "r => 5.72 %\n",
      "i => 5.37 %\n",
      "d => 5.02 %\n",
      "m => 3.91 %\n",
      "n => 3.91 %\n"
     ]
    }
   ],
   "source": [
    "analisa_frequencia(texto2)"
   ]
  },
  {
   "cell_type": "code",
   "execution_count": null,
   "metadata": {},
   "outputs": [],
   "source": []
  }
 ],
 "metadata": {
  "kernelspec": {
   "display_name": "Python 3",
   "language": "python",
   "name": "python3"
  },
  "language_info": {
   "codemirror_mode": {
    "name": "ipython",
    "version": 3
   },
   "file_extension": ".py",
   "mimetype": "text/x-python",
   "name": "python",
   "nbconvert_exporter": "python",
   "pygments_lexer": "ipython3",
   "version": "3.10.6"
  },
  "orig_nbformat": 4
 },
 "nbformat": 4,
 "nbformat_minor": 2
}
